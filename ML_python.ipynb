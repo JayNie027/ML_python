{
 "cells": [
  {
   "cell_type": "markdown",
   "metadata": {},
   "source": [
    "# Machine Learning in Python"
   ]
  },
  {
   "cell_type": "markdown",
   "metadata": {},
   "source": [
    "I document this file that used to educate myself some useful knowledge in Machine Learning.\\~\\\n",
    "I code everything in Microsoft VS. To download Python packages, one should open the Windows prompt and type \"py -m pip install PackageName\""
   ]
  },
  {
   "cell_type": "markdown",
   "metadata": {},
   "source": [
    "\"numpy\" is the pacakage that used to create array and matrix.\n",
    "\"pandas\" is commonly used to analyze the data."
   ]
  },
  {
   "cell_type": "markdown",
   "metadata": {},
   "source": [
    "## Linear regression"
   ]
  },
  {
   "cell_type": "markdown",
   "metadata": {},
   "source": [
    "### Machine learning aspect"
   ]
  },
  {
   "cell_type": "code",
   "execution_count": 1,
   "metadata": {},
   "outputs": [],
   "source": [
    "### import packages\n",
    "import numpy as np \n",
    "import pandas as pd\n",
    "from sklearn.linear_model import LinearRegression\n",
    "import statsmodels.api as sm\n"
   ]
  },
  {
   "cell_type": "markdown",
   "metadata": {},
   "source": [
    "use 'read_csv' from 'pandas' to read csv data file."
   ]
  },
  {
   "cell_type": "code",
   "execution_count": 2,
   "metadata": {},
   "outputs": [
    {
     "data": {
      "text/html": [
       "<div>\n",
       "<style scoped>\n",
       "    .dataframe tbody tr th:only-of-type {\n",
       "        vertical-align: middle;\n",
       "    }\n",
       "\n",
       "    .dataframe tbody tr th {\n",
       "        vertical-align: top;\n",
       "    }\n",
       "\n",
       "    .dataframe thead th {\n",
       "        text-align: right;\n",
       "    }\n",
       "</style>\n",
       "<table border=\"1\" class=\"dataframe\">\n",
       "  <thead>\n",
       "    <tr style=\"text-align: right;\">\n",
       "      <th></th>\n",
       "      <th>iso3_o</th>\n",
       "      <th>iso3_d</th>\n",
       "      <th>contig</th>\n",
       "      <th>dist</th>\n",
       "      <th>comlang_off</th>\n",
       "      <th>tradeflow_comtrade_d</th>\n",
       "    </tr>\n",
       "  </thead>\n",
       "  <tbody>\n",
       "    <tr>\n",
       "      <th>0</th>\n",
       "      <td>ABW</td>\n",
       "      <td>ABW</td>\n",
       "      <td>0.0</td>\n",
       "      <td>5.22500</td>\n",
       "      <td>0.0</td>\n",
       "      <td>NaN</td>\n",
       "    </tr>\n",
       "    <tr>\n",
       "      <th>1</th>\n",
       "      <td>ABW</td>\n",
       "      <td>AFG</td>\n",
       "      <td>0.0</td>\n",
       "      <td>13257.81400</td>\n",
       "      <td>0.0</td>\n",
       "      <td>NaN</td>\n",
       "    </tr>\n",
       "    <tr>\n",
       "      <th>2</th>\n",
       "      <td>ABW</td>\n",
       "      <td>AGO</td>\n",
       "      <td>0.0</td>\n",
       "      <td>9516.91310</td>\n",
       "      <td>0.0</td>\n",
       "      <td>NaN</td>\n",
       "    </tr>\n",
       "    <tr>\n",
       "      <th>3</th>\n",
       "      <td>ABW</td>\n",
       "      <td>AIA</td>\n",
       "      <td>0.0</td>\n",
       "      <td>983.26801</td>\n",
       "      <td>0.0</td>\n",
       "      <td>NaN</td>\n",
       "    </tr>\n",
       "    <tr>\n",
       "      <th>4</th>\n",
       "      <td>ABW</td>\n",
       "      <td>ALB</td>\n",
       "      <td>0.0</td>\n",
       "      <td>9091.74220</td>\n",
       "      <td>0.0</td>\n",
       "      <td>NaN</td>\n",
       "    </tr>\n",
       "    <tr>\n",
       "      <th>...</th>\n",
       "      <td>...</td>\n",
       "      <td>...</td>\n",
       "      <td>...</td>\n",
       "      <td>...</td>\n",
       "      <td>...</td>\n",
       "      <td>...</td>\n",
       "    </tr>\n",
       "    <tr>\n",
       "      <th>61499</th>\n",
       "      <td>ZWE</td>\n",
       "      <td>YMD</td>\n",
       "      <td>NaN</td>\n",
       "      <td>NaN</td>\n",
       "      <td>NaN</td>\n",
       "      <td>NaN</td>\n",
       "    </tr>\n",
       "    <tr>\n",
       "      <th>61500</th>\n",
       "      <td>ZWE</td>\n",
       "      <td>YUG</td>\n",
       "      <td>NaN</td>\n",
       "      <td>NaN</td>\n",
       "      <td>NaN</td>\n",
       "      <td>NaN</td>\n",
       "    </tr>\n",
       "    <tr>\n",
       "      <th>61501</th>\n",
       "      <td>ZWE</td>\n",
       "      <td>ZAF</td>\n",
       "      <td>1.0</td>\n",
       "      <td>2186.20610</td>\n",
       "      <td>1.0</td>\n",
       "      <td>170196.063</td>\n",
       "    </tr>\n",
       "    <tr>\n",
       "      <th>61502</th>\n",
       "      <td>ZWE</td>\n",
       "      <td>ZMB</td>\n",
       "      <td>1.0</td>\n",
       "      <td>396.80399</td>\n",
       "      <td>1.0</td>\n",
       "      <td>74451.109</td>\n",
       "    </tr>\n",
       "    <tr>\n",
       "      <th>61503</th>\n",
       "      <td>ZWE</td>\n",
       "      <td>ZWE</td>\n",
       "      <td>0.0</td>\n",
       "      <td>235.11900</td>\n",
       "      <td>0.0</td>\n",
       "      <td>NaN</td>\n",
       "    </tr>\n",
       "  </tbody>\n",
       "</table>\n",
       "<p>61504 rows × 6 columns</p>\n",
       "</div>"
      ],
      "text/plain": [
       "      iso3_o iso3_d  contig         dist  comlang_off  tradeflow_comtrade_d\n",
       "0        ABW    ABW     0.0      5.22500          0.0                   NaN\n",
       "1        ABW    AFG     0.0  13257.81400          0.0                   NaN\n",
       "2        ABW    AGO     0.0   9516.91310          0.0                   NaN\n",
       "3        ABW    AIA     0.0    983.26801          0.0                   NaN\n",
       "4        ABW    ALB     0.0   9091.74220          0.0                   NaN\n",
       "...      ...    ...     ...          ...          ...                   ...\n",
       "61499    ZWE    YMD     NaN          NaN          NaN                   NaN\n",
       "61500    ZWE    YUG     NaN          NaN          NaN                   NaN\n",
       "61501    ZWE    ZAF     1.0   2186.20610          1.0            170196.063\n",
       "61502    ZWE    ZMB     1.0    396.80399          1.0             74451.109\n",
       "61503    ZWE    ZWE     0.0    235.11900          0.0                   NaN\n",
       "\n",
       "[61504 rows x 6 columns]"
      ]
     },
     "execution_count": 2,
     "metadata": {},
     "output_type": "execute_result"
    }
   ],
   "source": [
    "df_origin = pd.read_csv(\"data/trade.csv\")\n",
    "df_origin"
   ]
  },
  {
   "cell_type": "code",
   "execution_count": 3,
   "metadata": {},
   "outputs": [
    {
     "data": {
      "text/html": [
       "<div>\n",
       "<style scoped>\n",
       "    .dataframe tbody tr th:only-of-type {\n",
       "        vertical-align: middle;\n",
       "    }\n",
       "\n",
       "    .dataframe tbody tr th {\n",
       "        vertical-align: top;\n",
       "    }\n",
       "\n",
       "    .dataframe thead th {\n",
       "        text-align: right;\n",
       "    }\n",
       "</style>\n",
       "<table border=\"1\" class=\"dataframe\">\n",
       "  <thead>\n",
       "    <tr style=\"text-align: right;\">\n",
       "      <th></th>\n",
       "      <th>iso3_o</th>\n",
       "      <th>iso3_d</th>\n",
       "      <th>contig</th>\n",
       "      <th>dist</th>\n",
       "      <th>comlang_off</th>\n",
       "      <th>tradeflow_comtrade_d</th>\n",
       "    </tr>\n",
       "  </thead>\n",
       "  <tbody>\n",
       "    <tr>\n",
       "      <th>7</th>\n",
       "      <td>ABW</td>\n",
       "      <td>ARE</td>\n",
       "      <td>0.0</td>\n",
       "      <td>12735.01200</td>\n",
       "      <td>0.0</td>\n",
       "      <td>538.973</td>\n",
       "    </tr>\n",
       "    <tr>\n",
       "      <th>8</th>\n",
       "      <td>ABW</td>\n",
       "      <td>ARG</td>\n",
       "      <td>0.0</td>\n",
       "      <td>5396.22020</td>\n",
       "      <td>1.0</td>\n",
       "      <td>0.052</td>\n",
       "    </tr>\n",
       "    <tr>\n",
       "      <th>15</th>\n",
       "      <td>ABW</td>\n",
       "      <td>AUT</td>\n",
       "      <td>0.0</td>\n",
       "      <td>8719.12990</td>\n",
       "      <td>0.0</td>\n",
       "      <td>109.376</td>\n",
       "    </tr>\n",
       "    <tr>\n",
       "      <th>18</th>\n",
       "      <td>ABW</td>\n",
       "      <td>BEL</td>\n",
       "      <td>0.0</td>\n",
       "      <td>7847.06980</td>\n",
       "      <td>1.0</td>\n",
       "      <td>29.035</td>\n",
       "    </tr>\n",
       "    <tr>\n",
       "      <th>23</th>\n",
       "      <td>ABW</td>\n",
       "      <td>BGR</td>\n",
       "      <td>0.0</td>\n",
       "      <td>9348.03910</td>\n",
       "      <td>0.0</td>\n",
       "      <td>1.957</td>\n",
       "    </tr>\n",
       "    <tr>\n",
       "      <th>...</th>\n",
       "      <td>...</td>\n",
       "      <td>...</td>\n",
       "      <td>...</td>\n",
       "      <td>...</td>\n",
       "      <td>...</td>\n",
       "      <td>...</td>\n",
       "    </tr>\n",
       "    <tr>\n",
       "      <th>61488</th>\n",
       "      <td>ZWE</td>\n",
       "      <td>UZB</td>\n",
       "      <td>0.0</td>\n",
       "      <td>7664.58110</td>\n",
       "      <td>0.0</td>\n",
       "      <td>2497.368</td>\n",
       "    </tr>\n",
       "    <tr>\n",
       "      <th>61490</th>\n",
       "      <td>ZWE</td>\n",
       "      <td>VCT</td>\n",
       "      <td>0.0</td>\n",
       "      <td>10699.65500</td>\n",
       "      <td>1.0</td>\n",
       "      <td>0.406</td>\n",
       "    </tr>\n",
       "    <tr>\n",
       "      <th>61494</th>\n",
       "      <td>ZWE</td>\n",
       "      <td>VNM</td>\n",
       "      <td>0.0</td>\n",
       "      <td>9231.17770</td>\n",
       "      <td>0.0</td>\n",
       "      <td>15669.277</td>\n",
       "    </tr>\n",
       "    <tr>\n",
       "      <th>61501</th>\n",
       "      <td>ZWE</td>\n",
       "      <td>ZAF</td>\n",
       "      <td>1.0</td>\n",
       "      <td>2186.20610</td>\n",
       "      <td>1.0</td>\n",
       "      <td>170196.063</td>\n",
       "    </tr>\n",
       "    <tr>\n",
       "      <th>61502</th>\n",
       "      <td>ZWE</td>\n",
       "      <td>ZMB</td>\n",
       "      <td>1.0</td>\n",
       "      <td>396.80399</td>\n",
       "      <td>1.0</td>\n",
       "      <td>74451.109</td>\n",
       "    </tr>\n",
       "  </tbody>\n",
       "</table>\n",
       "<p>25309 rows × 6 columns</p>\n",
       "</div>"
      ],
      "text/plain": [
       "      iso3_o iso3_d  contig         dist  comlang_off  tradeflow_comtrade_d\n",
       "7        ABW    ARE     0.0  12735.01200          0.0               538.973\n",
       "8        ABW    ARG     0.0   5396.22020          1.0                 0.052\n",
       "15       ABW    AUT     0.0   8719.12990          0.0               109.376\n",
       "18       ABW    BEL     0.0   7847.06980          1.0                29.035\n",
       "23       ABW    BGR     0.0   9348.03910          0.0                 1.957\n",
       "...      ...    ...     ...          ...          ...                   ...\n",
       "61488    ZWE    UZB     0.0   7664.58110          0.0              2497.368\n",
       "61490    ZWE    VCT     0.0  10699.65500          1.0                 0.406\n",
       "61494    ZWE    VNM     0.0   9231.17770          0.0             15669.277\n",
       "61501    ZWE    ZAF     1.0   2186.20610          1.0            170196.063\n",
       "61502    ZWE    ZMB     1.0    396.80399          1.0             74451.109\n",
       "\n",
       "[25309 rows x 6 columns]"
      ]
     },
     "execution_count": 3,
     "metadata": {},
     "output_type": "execute_result"
    }
   ],
   "source": [
    "df = df_origin.dropna(axis = 0, how = \"any\") # drop missing values \n",
    "df"
   ]
  },
  {
   "cell_type": "code",
   "execution_count": 4,
   "metadata": {},
   "outputs": [],
   "source": [
    "# Drop only those rows where the specified column has a missing value\n",
    "#df.dropna(subset=['varName'])"
   ]
  },
  {
   "cell_type": "code",
   "execution_count": 5,
   "metadata": {},
   "outputs": [
    {
     "name": "stderr",
     "output_type": "stream",
     "text": [
      "C:\\Users\\niejun\\AppData\\Local\\Temp\\ipykernel_22316\\989552665.py:1: SettingWithCopyWarning: \n",
      "A value is trying to be set on a copy of a slice from a DataFrame.\n",
      "Try using .loc[row_indexer,col_indexer] = value instead\n",
      "\n",
      "See the caveats in the documentation: https://pandas.pydata.org/pandas-docs/stable/user_guide/indexing.html#returning-a-view-versus-a-copy\n",
      "  df[\"logtrade\"] = np.log(df[\"tradeflow_comtrade_d\"]);\n"
     ]
    },
    {
     "data": {
      "text/html": [
       "<div>\n",
       "<style scoped>\n",
       "    .dataframe tbody tr th:only-of-type {\n",
       "        vertical-align: middle;\n",
       "    }\n",
       "\n",
       "    .dataframe tbody tr th {\n",
       "        vertical-align: top;\n",
       "    }\n",
       "\n",
       "    .dataframe thead th {\n",
       "        text-align: right;\n",
       "    }\n",
       "</style>\n",
       "<table border=\"1\" class=\"dataframe\">\n",
       "  <thead>\n",
       "    <tr style=\"text-align: right;\">\n",
       "      <th></th>\n",
       "      <th>contig</th>\n",
       "      <th>dist</th>\n",
       "      <th>comlang_off</th>\n",
       "      <th>tradeflow_comtrade_d</th>\n",
       "      <th>logtrade</th>\n",
       "    </tr>\n",
       "  </thead>\n",
       "  <tbody>\n",
       "    <tr>\n",
       "      <th>count</th>\n",
       "      <td>25309.000000</td>\n",
       "      <td>25309.000000</td>\n",
       "      <td>25309.000000</td>\n",
       "      <td>2.530900e+04</td>\n",
       "      <td>25309.000000</td>\n",
       "    </tr>\n",
       "    <tr>\n",
       "      <th>mean</th>\n",
       "      <td>0.019163</td>\n",
       "      <td>7585.013063</td>\n",
       "      <td>0.148050</td>\n",
       "      <td>6.706055e+05</td>\n",
       "      <td>7.306952</td>\n",
       "    </tr>\n",
       "    <tr>\n",
       "      <th>std</th>\n",
       "      <td>0.137101</td>\n",
       "      <td>4454.782636</td>\n",
       "      <td>0.355157</td>\n",
       "      <td>6.715881e+06</td>\n",
       "      <td>4.596065</td>\n",
       "    </tr>\n",
       "    <tr>\n",
       "      <th>min</th>\n",
       "      <td>0.000000</td>\n",
       "      <td>6.686000</td>\n",
       "      <td>0.000000</td>\n",
       "      <td>1.000000e-03</td>\n",
       "      <td>-6.907755</td>\n",
       "    </tr>\n",
       "    <tr>\n",
       "      <th>25%</th>\n",
       "      <td>0.000000</td>\n",
       "      <td>4021.170900</td>\n",
       "      <td>0.000000</td>\n",
       "      <td>5.459900e+01</td>\n",
       "      <td>4.000016</td>\n",
       "    </tr>\n",
       "    <tr>\n",
       "      <th>50%</th>\n",
       "      <td>0.000000</td>\n",
       "      <td>7191.661100</td>\n",
       "      <td>0.000000</td>\n",
       "      <td>2.056650e+03</td>\n",
       "      <td>7.628834</td>\n",
       "    </tr>\n",
       "    <tr>\n",
       "      <th>75%</th>\n",
       "      <td>0.000000</td>\n",
       "      <td>10582.334000</td>\n",
       "      <td>0.000000</td>\n",
       "      <td>4.877500e+04</td>\n",
       "      <td>10.794973</td>\n",
       "    </tr>\n",
       "    <tr>\n",
       "      <th>max</th>\n",
       "      <td>1.000000</td>\n",
       "      <td>19951.160000</td>\n",
       "      <td>1.000000</td>\n",
       "      <td>5.257563e+08</td>\n",
       "      <td>20.080348</td>\n",
       "    </tr>\n",
       "  </tbody>\n",
       "</table>\n",
       "</div>"
      ],
      "text/plain": [
       "             contig          dist   comlang_off  tradeflow_comtrade_d  \\\n",
       "count  25309.000000  25309.000000  25309.000000          2.530900e+04   \n",
       "mean       0.019163   7585.013063      0.148050          6.706055e+05   \n",
       "std        0.137101   4454.782636      0.355157          6.715881e+06   \n",
       "min        0.000000      6.686000      0.000000          1.000000e-03   \n",
       "25%        0.000000   4021.170900      0.000000          5.459900e+01   \n",
       "50%        0.000000   7191.661100      0.000000          2.056650e+03   \n",
       "75%        0.000000  10582.334000      0.000000          4.877500e+04   \n",
       "max        1.000000  19951.160000      1.000000          5.257563e+08   \n",
       "\n",
       "           logtrade  \n",
       "count  25309.000000  \n",
       "mean       7.306952  \n",
       "std        4.596065  \n",
       "min       -6.907755  \n",
       "25%        4.000016  \n",
       "50%        7.628834  \n",
       "75%       10.794973  \n",
       "max       20.080348  "
      ]
     },
     "execution_count": 5,
     "metadata": {},
     "output_type": "execute_result"
    }
   ],
   "source": [
    "df[\"logtrade\"] = np.log(df[\"tradeflow_comtrade_d\"]);\n",
    "df.describe()\n"
   ]
  },
  {
   "cell_type": "code",
   "execution_count": 6,
   "metadata": {},
   "outputs": [
    {
     "data": {
      "text/plain": [
       "iso3_o                   object\n",
       "iso3_d                   object\n",
       "contig                  float64\n",
       "dist                    float64\n",
       "comlang_off             float64\n",
       "tradeflow_comtrade_d    float64\n",
       "logtrade                float64\n",
       "dtype: object"
      ]
     },
     "execution_count": 6,
     "metadata": {},
     "output_type": "execute_result"
    }
   ],
   "source": [
    "df.dtypes   # check each variable's type"
   ]
  },
  {
   "cell_type": "code",
   "execution_count": 7,
   "metadata": {},
   "outputs": [
    {
     "name": "stderr",
     "output_type": "stream",
     "text": [
      "C:\\Users\\niejun\\AppData\\Local\\Temp\\ipykernel_22316\\2819130948.py:1: SettingWithCopyWarning: \n",
      "A value is trying to be set on a copy of a slice from a DataFrame.\n",
      "Try using .loc[row_indexer,col_indexer] = value instead\n",
      "\n",
      "See the caveats in the documentation: https://pandas.pydata.org/pandas-docs/stable/user_guide/indexing.html#returning-a-view-versus-a-copy\n",
      "  df[\"logdist\"] = np.log(df[\"dist\"]);\n"
     ]
    }
   ],
   "source": [
    "df[\"logdist\"] = np.log(df[\"dist\"]);"
   ]
  },
  {
   "cell_type": "markdown",
   "metadata": {},
   "source": [
    "Suppose I just want to run a simple regression that dependent variable is the log of trade, and indepedent variables are the log of distance, language and border"
   ]
  },
  {
   "cell_type": "markdown",
   "metadata": {},
   "source": [
    "Extract the log of distane and assigned as independent variable."
   ]
  },
  {
   "cell_type": "code",
   "execution_count": 8,
   "metadata": {},
   "outputs": [
    {
     "name": "stdout",
     "output_type": "stream",
     "text": [
      "7        9.452110\n",
      "8        8.593454\n",
      "15       9.073275\n",
      "18       8.967895\n",
      "23       9.142922\n",
      "           ...   \n",
      "61488    8.944365\n",
      "61490    9.277967\n",
      "61494    9.130342\n",
      "61501    7.689923\n",
      "61502    5.983442\n",
      "Name: logdist, Length: 25309, dtype: float64\n"
     ]
    }
   ],
   "source": [
    "x = df[\"logdist\"];\n",
    "print(x)"
   ]
  },
  {
   "cell_type": "markdown",
   "metadata": {},
   "source": [
    "Extract the log of trade and assigned as dependent variable"
   ]
  },
  {
   "cell_type": "code",
   "execution_count": 9,
   "metadata": {},
   "outputs": [
    {
     "name": "stdout",
     "output_type": "stream",
     "text": [
      "7         6.289665\n",
      "8        -2.956512\n",
      "15        4.694791\n",
      "18        3.368502\n",
      "23        0.671413\n",
      "           ...    \n",
      "61488     7.822993\n",
      "61490    -0.901402\n",
      "61494     9.659457\n",
      "61501    12.044706\n",
      "61502    11.217898\n",
      "Name: logtrade, Length: 25309, dtype: float64\n"
     ]
    }
   ],
   "source": [
    "y = df[\"logtrade\"];\n",
    "print(y)"
   ]
  },
  {
   "cell_type": "markdown",
   "metadata": {},
   "source": [
    "In following code, I run this simple linear regression by using \"OLS\" feature from the package \"statsmodels\". The nice aspect of this package is it returns the table of results. However, I need to us \"sm.add_constant\" to add the constant $\\beta_{0}$ in the regression model."
   ]
  },
  {
   "cell_type": "code",
   "execution_count": 20,
   "metadata": {},
   "outputs": [
    {
     "data": {
      "text/html": [
       "<table class=\"simpletable\">\n",
       "<caption>OLS Regression Results</caption>\n",
       "<tr>\n",
       "  <th>Dep. Variable:</th>         <td>logdist</td>     <th>  R-squared:         </th>  <td>   1.000</td> \n",
       "</tr>\n",
       "<tr>\n",
       "  <th>Model:</th>                   <td>OLS</td>       <th>  Adj. R-squared:    </th>  <td>   1.000</td> \n",
       "</tr>\n",
       "<tr>\n",
       "  <th>Method:</th>             <td>Least Squares</td>  <th>  F-statistic:       </th>  <td>5.058e+33</td>\n",
       "</tr>\n",
       "<tr>\n",
       "  <th>Date:</th>             <td>Fri, 06 Sep 2024</td> <th>  Prob (F-statistic):</th>   <td>  0.00</td>  \n",
       "</tr>\n",
       "<tr>\n",
       "  <th>Time:</th>                 <td>16:54:34</td>     <th>  Log-Likelihood:    </th> <td>8.2299e+05</td>\n",
       "</tr>\n",
       "<tr>\n",
       "  <th>No. Observations:</th>      <td> 25309</td>      <th>  AIC:               </th> <td>-1.646e+06</td>\n",
       "</tr>\n",
       "<tr>\n",
       "  <th>Df Residuals:</th>          <td> 25307</td>      <th>  BIC:               </th> <td>-1.646e+06</td>\n",
       "</tr>\n",
       "<tr>\n",
       "  <th>Df Model:</th>              <td>     1</td>      <th>                     </th>      <td> </td>    \n",
       "</tr>\n",
       "<tr>\n",
       "  <th>Covariance Type:</th>      <td>nonrobust</td>    <th>                     </th>      <td> </td>    \n",
       "</tr>\n",
       "</table>\n",
       "<table class=\"simpletable\">\n",
       "<tr>\n",
       "     <td></td>        <th>coef</th>     <th>std err</th>      <th>t</th>      <th>P>|t|</th>  <th>[0.025</th>    <th>0.975]</th>  \n",
       "</tr>\n",
       "<tr>\n",
       "  <th>const</th>   <td> 4.892e-15</td> <td> 1.23e-16</td> <td>   39.871</td> <td> 0.000</td> <td> 4.65e-15</td> <td> 5.13e-15</td>\n",
       "</tr>\n",
       "<tr>\n",
       "  <th>logdist</th> <td>    1.0000</td> <td> 1.41e-17</td> <td> 7.11e+16</td> <td> 0.000</td> <td>    1.000</td> <td>    1.000</td>\n",
       "</tr>\n",
       "</table>\n",
       "<table class=\"simpletable\">\n",
       "<tr>\n",
       "  <th>Omnibus:</th>       <td>24068.644</td> <th>  Durbin-Watson:     </th>  <td>   0.020</td> \n",
       "</tr>\n",
       "<tr>\n",
       "  <th>Prob(Omnibus):</th>  <td> 0.000</td>   <th>  Jarque-Bera (JB):  </th> <td>734894.613</td>\n",
       "</tr>\n",
       "<tr>\n",
       "  <th>Skew:</th>           <td>-4.870</td>   <th>  Prob(JB):          </th>  <td>    0.00</td> \n",
       "</tr>\n",
       "<tr>\n",
       "  <th>Kurtosis:</th>       <td>27.536</td>   <th>  Cond. No.          </th>  <td>    94.5</td> \n",
       "</tr>\n",
       "</table><br/><br/>Notes:<br/>[1] Standard Errors assume that the covariance matrix of the errors is correctly specified."
      ],
      "text/latex": [
       "\\begin{center}\n",
       "\\begin{tabular}{lclc}\n",
       "\\toprule\n",
       "\\textbf{Dep. Variable:}    &     logdist      & \\textbf{  R-squared:         } &     1.000   \\\\\n",
       "\\textbf{Model:}            &       OLS        & \\textbf{  Adj. R-squared:    } &     1.000   \\\\\n",
       "\\textbf{Method:}           &  Least Squares   & \\textbf{  F-statistic:       } & 5.058e+33   \\\\\n",
       "\\textbf{Date:}             & Fri, 06 Sep 2024 & \\textbf{  Prob (F-statistic):} &     0.00    \\\\\n",
       "\\textbf{Time:}             &     16:54:34     & \\textbf{  Log-Likelihood:    } & 8.2299e+05  \\\\\n",
       "\\textbf{No. Observations:} &       25309      & \\textbf{  AIC:               } & -1.646e+06  \\\\\n",
       "\\textbf{Df Residuals:}     &       25307      & \\textbf{  BIC:               } & -1.646e+06  \\\\\n",
       "\\textbf{Df Model:}         &           1      & \\textbf{                     } &             \\\\\n",
       "\\textbf{Covariance Type:}  &    nonrobust     & \\textbf{                     } &             \\\\\n",
       "\\bottomrule\n",
       "\\end{tabular}\n",
       "\\begin{tabular}{lcccccc}\n",
       "                 & \\textbf{coef} & \\textbf{std err} & \\textbf{t} & \\textbf{P$> |$t$|$} & \\textbf{[0.025} & \\textbf{0.975]}  \\\\\n",
       "\\midrule\n",
       "\\textbf{const}   &    4.892e-15  &     1.23e-16     &    39.871  &         0.000        &     4.65e-15    &     5.13e-15     \\\\\n",
       "\\textbf{logdist} &       1.0000  &     1.41e-17     &  7.11e+16  &         0.000        &        1.000    &        1.000     \\\\\n",
       "\\bottomrule\n",
       "\\end{tabular}\n",
       "\\begin{tabular}{lclc}\n",
       "\\textbf{Omnibus:}       & 24068.644 & \\textbf{  Durbin-Watson:     } &     0.020   \\\\\n",
       "\\textbf{Prob(Omnibus):} &    0.000  & \\textbf{  Jarque-Bera (JB):  } & 734894.613  \\\\\n",
       "\\textbf{Skew:}          &   -4.870  & \\textbf{  Prob(JB):          } &      0.00   \\\\\n",
       "\\textbf{Kurtosis:}      &   27.536  & \\textbf{  Cond. No.          } &      94.5   \\\\\n",
       "\\bottomrule\n",
       "\\end{tabular}\n",
       "%\\caption{OLS Regression Results}\n",
       "\\end{center}\n",
       "\n",
       "Notes: \\newline\n",
       " [1] Standard Errors assume that the covariance matrix of the errors is correctly specified."
      ],
      "text/plain": [
       "<class 'statsmodels.iolib.summary.Summary'>\n",
       "\"\"\"\n",
       "                            OLS Regression Results                            \n",
       "==============================================================================\n",
       "Dep. Variable:                logdist   R-squared:                       1.000\n",
       "Model:                            OLS   Adj. R-squared:                  1.000\n",
       "Method:                 Least Squares   F-statistic:                 5.058e+33\n",
       "Date:                Fri, 06 Sep 2024   Prob (F-statistic):               0.00\n",
       "Time:                        16:54:34   Log-Likelihood:             8.2299e+05\n",
       "No. Observations:               25309   AIC:                        -1.646e+06\n",
       "Df Residuals:                   25307   BIC:                        -1.646e+06\n",
       "Df Model:                           1                                         \n",
       "Covariance Type:            nonrobust                                         \n",
       "==============================================================================\n",
       "                 coef    std err          t      P>|t|      [0.025      0.975]\n",
       "------------------------------------------------------------------------------\n",
       "const       4.892e-15   1.23e-16     39.871      0.000    4.65e-15    5.13e-15\n",
       "logdist        1.0000   1.41e-17   7.11e+16      0.000       1.000       1.000\n",
       "==============================================================================\n",
       "Omnibus:                    24068.644   Durbin-Watson:                   0.020\n",
       "Prob(Omnibus):                  0.000   Jarque-Bera (JB):           734894.613\n",
       "Skew:                          -4.870   Prob(JB):                         0.00\n",
       "Kurtosis:                      27.536   Cond. No.                         94.5\n",
       "==============================================================================\n",
       "\n",
       "Notes:\n",
       "[1] Standard Errors assume that the covariance matrix of the errors is correctly specified.\n",
       "\"\"\""
      ]
     },
     "execution_count": 20,
     "metadata": {},
     "output_type": "execute_result"
    }
   ],
   "source": [
    "x = sm.add_constant(x);\n",
    "model = sm.OLS(y,x);\n",
    "results = model.fit();\n",
    "\n",
    "results.summary()   # this return the estimated results"
   ]
  },
  {
   "cell_type": "code",
   "execution_count": 10,
   "metadata": {},
   "outputs": [
    {
     "data": {
      "text/plain": [
       "(25309,)"
      ]
     },
     "execution_count": 10,
     "metadata": {},
     "output_type": "execute_result"
    }
   ],
   "source": [
    "x.shape\n",
    "y.shape"
   ]
  },
  {
   "cell_type": "code",
   "execution_count": 12,
   "metadata": {},
   "outputs": [],
   "source": [
    "x = df.iloc[:, df.columns.get_loc(\"logdist\") ].values\n",
    "y = df.iloc[:, df.columns.get_loc(\"logtrade\") ].values\n",
    "x= x.reshape(-1, 1)"
   ]
  },
  {
   "cell_type": "code",
   "execution_count": 13,
   "metadata": {},
   "outputs": [],
   "source": [
    "reg = LinearRegression().fit(x, y)"
   ]
  },
  {
   "cell_type": "code",
   "execution_count": 22,
   "metadata": {},
   "outputs": [
    {
     "data": {
      "text/plain": [
       "array([-1.46101617])"
      ]
     },
     "execution_count": 22,
     "metadata": {},
     "output_type": "execute_result"
    }
   ],
   "source": [
    "reg.coef_"
   ]
  },
  {
   "cell_type": "code",
   "execution_count": 21,
   "metadata": {},
   "outputs": [
    {
     "data": {
      "text/plain": [
       "1"
      ]
     },
     "execution_count": 21,
     "metadata": {},
     "output_type": "execute_result"
    }
   ],
   "source": [
    "reg.n_features_in_"
   ]
  },
  {
   "cell_type": "code",
   "execution_count": null,
   "metadata": {},
   "outputs": [],
   "source": []
  }
 ],
 "metadata": {
  "kernelspec": {
   "display_name": "Python 3",
   "language": "python",
   "name": "python3"
  },
  "language_info": {
   "codemirror_mode": {
    "name": "ipython",
    "version": 3
   },
   "file_extension": ".py",
   "mimetype": "text/x-python",
   "name": "python",
   "nbconvert_exporter": "python",
   "pygments_lexer": "ipython3",
   "version": "3.11.6"
  }
 },
 "nbformat": 4,
 "nbformat_minor": 2
}
